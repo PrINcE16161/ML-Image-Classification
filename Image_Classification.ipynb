{
  "nbformat": 4,
  "nbformat_minor": 0,
  "metadata": {
    "colab": {
      "provenance": [],
      "authorship_tag": "ABX9TyP4H9MBnpVgOFwAouV0gg4K",
      "include_colab_link": true
    },
    "kernelspec": {
      "name": "python3",
      "display_name": "Python 3"
    },
    "language_info": {
      "name": "python"
    }
  },
  "cells": [
    {
      "cell_type": "markdown",
      "metadata": {
        "id": "view-in-github",
        "colab_type": "text"
      },
      "source": [
        "<a href=\"https://colab.research.google.com/github/PrINcE16161/ML-Image-Classification/blob/main/Image_Classification.ipynb\" target=\"_parent\"><img src=\"https://colab.research.google.com/assets/colab-badge.svg\" alt=\"Open In Colab\"/></a>"
      ]
    },
    {
      "cell_type": "code",
      "source": [
        "!pip install ipython-autotime\n",
        "%load_ext autotime"
      ],
      "metadata": {
        "colab": {
          "base_uri": "https://localhost:8080/"
        },
        "id": "KJEf4mGYWRq6",
        "outputId": "9d020f6f-4d6a-4aee-87c7-863e047135a1"
      },
      "execution_count": null,
      "outputs": [
        {
          "output_type": "stream",
          "name": "stdout",
          "text": [
            "Collecting ipython-autotime\n",
            "  Downloading ipython_autotime-0.3.2-py2.py3-none-any.whl (7.0 kB)\n",
            "Requirement already satisfied: ipython in /usr/local/lib/python3.10/dist-packages (from ipython-autotime) (7.34.0)\n",
            "Requirement already satisfied: setuptools>=18.5 in /usr/local/lib/python3.10/dist-packages (from ipython->ipython-autotime) (67.7.2)\n",
            "Collecting jedi>=0.16 (from ipython->ipython-autotime)\n",
            "  Downloading jedi-0.19.1-py2.py3-none-any.whl (1.6 MB)\n",
            "\u001b[2K     \u001b[90m━━━━━━━━━━━━━━━━━━━━━━━━━━━━━━━━━━━━━━━━\u001b[0m \u001b[32m1.6/1.6 MB\u001b[0m \u001b[31m9.3 MB/s\u001b[0m eta \u001b[36m0:00:00\u001b[0m\n",
            "\u001b[?25hRequirement already satisfied: decorator in /usr/local/lib/python3.10/dist-packages (from ipython->ipython-autotime) (4.4.2)\n",
            "Requirement already satisfied: pickleshare in /usr/local/lib/python3.10/dist-packages (from ipython->ipython-autotime) (0.7.5)\n",
            "Requirement already satisfied: traitlets>=4.2 in /usr/local/lib/python3.10/dist-packages (from ipython->ipython-autotime) (5.7.1)\n",
            "Requirement already satisfied: prompt-toolkit!=3.0.0,!=3.0.1,<3.1.0,>=2.0.0 in /usr/local/lib/python3.10/dist-packages (from ipython->ipython-autotime) (3.0.43)\n",
            "Requirement already satisfied: pygments in /usr/local/lib/python3.10/dist-packages (from ipython->ipython-autotime) (2.16.1)\n",
            "Requirement already satisfied: backcall in /usr/local/lib/python3.10/dist-packages (from ipython->ipython-autotime) (0.2.0)\n",
            "Requirement already satisfied: matplotlib-inline in /usr/local/lib/python3.10/dist-packages (from ipython->ipython-autotime) (0.1.6)\n",
            "Requirement already satisfied: pexpect>4.3 in /usr/local/lib/python3.10/dist-packages (from ipython->ipython-autotime) (4.9.0)\n",
            "Requirement already satisfied: parso<0.9.0,>=0.8.3 in /usr/local/lib/python3.10/dist-packages (from jedi>=0.16->ipython->ipython-autotime) (0.8.3)\n",
            "Requirement already satisfied: ptyprocess>=0.5 in /usr/local/lib/python3.10/dist-packages (from pexpect>4.3->ipython->ipython-autotime) (0.7.0)\n",
            "Requirement already satisfied: wcwidth in /usr/local/lib/python3.10/dist-packages (from prompt-toolkit!=3.0.0,!=3.0.1,<3.1.0,>=2.0.0->ipython->ipython-autotime) (0.2.13)\n",
            "Installing collected packages: jedi, ipython-autotime\n",
            "Successfully installed ipython-autotime-0.3.2 jedi-0.19.1\n",
            "time: 424 µs (started: 2024-01-24 10:52:59 +00:00)\n"
          ]
        }
      ]
    },
    {
      "cell_type": "code",
      "execution_count": null,
      "metadata": {
        "colab": {
          "base_uri": "https://localhost:8080/"
        },
        "id": "KjMBCmD9SIjW",
        "outputId": "e61e03a4-73ad-4ddf-ca0b-8bd40a099993"
      },
      "outputs": [
        {
          "output_type": "stream",
          "name": "stdout",
          "text": [
            "time: 459 µs (started: 2024-01-23 10:25:34 +00:00)\n"
          ]
        }
      ],
      "source": [
        "# Data : Images\n",
        "# 1. Download manually the images from google\n",
        "# 2. Download dataset from kaggle.com\n",
        "# 3. Build a Image Web Crawler\n",
        "# 4. Use python libraries to scrape the images (Using) (bing.com)"
      ]
    },
    {
      "cell_type": "code",
      "source": [
        "!pip install bing-image-downloader"
      ],
      "metadata": {
        "colab": {
          "base_uri": "https://localhost:8080/"
        },
        "id": "ya9iU1RCS97f",
        "outputId": "622b6fba-a5c2-44f2-f40e-9980609e63eb"
      },
      "execution_count": null,
      "outputs": [
        {
          "output_type": "stream",
          "name": "stdout",
          "text": [
            "Collecting bing-image-downloader\n",
            "  Downloading bing_image_downloader-1.1.2-py3-none-any.whl (5.9 kB)\n",
            "Installing collected packages: bing-image-downloader\n",
            "Successfully installed bing-image-downloader-1.1.2\n",
            "time: 10.6 s (started: 2024-01-24 10:53:08 +00:00)\n"
          ]
        }
      ]
    },
    {
      "cell_type": "code",
      "source": [
        "!mkdir images"
      ],
      "metadata": {
        "colab": {
          "base_uri": "https://localhost:8080/"
        },
        "id": "6j2Vx5AiTQuq",
        "outputId": "7d0db6c1-81c0-461b-8dff-53752286cc10"
      },
      "execution_count": null,
      "outputs": [
        {
          "output_type": "stream",
          "name": "stdout",
          "text": [
            "time: 104 ms (started: 2024-01-24 10:53:23 +00:00)\n"
          ]
        }
      ]
    },
    {
      "cell_type": "code",
      "source": [
        "from bing_image_downloader import downloader\n",
        "downloader.download(\"men\", limit=30, output_dir='images', adult_filter_off=True)"
      ],
      "metadata": {
        "colab": {
          "base_uri": "https://localhost:8080/"
        },
        "id": "2Fvfs0ezTkb6",
        "outputId": "88226515-89e9-47bd-86e3-2232335efc21"
      },
      "execution_count": null,
      "outputs": [
        {
          "output_type": "stream",
          "name": "stdout",
          "text": [
            "[%] Downloading Images to /content/images/men\n",
            "\n",
            "\n",
            "[!!]Indexing page: 1\n",
            "\n",
            "[%] Indexed 30 Images on Page 1.\n",
            "\n",
            "===============================================\n",
            "\n",
            "[%] Downloading Image #1 from https://i.pinimg.com/originals/e5/ef/ad/e5efad10a90a072c715d55b476c2b3d6.jpg\n",
            "[%] File Downloaded !\n",
            "\n",
            "[%] Downloading Image #2 from http://onlineshoppingfreak.com/wp-content/uploads/2016/06/Fotolia_90886446_Subscription_Monthly_M.jpg\n",
            "[!] Issue getting: http://onlineshoppingfreak.com/wp-content/uploads/2016/06/Fotolia_90886446_Subscription_Monthly_M.jpg\n",
            "[!] Error:: <urlopen error [Errno -3] Temporary failure in name resolution>\n",
            "[%] Downloading Image #2 from https://i.pinimg.com/736x/4c/fc/8b/4cfc8b69350f39c14a56d4ea79ed63a9.jpg\n",
            "[%] File Downloaded !\n",
            "\n",
            "[%] Downloading Image #3 from https://fashionablymale.net/wp-content/uploads/2015/05/men-tomas-maier-cruise16-david-schulze-look03.jpg\n",
            "[%] File Downloaded !\n",
            "\n",
            "[%] Downloading Image #4 from https://i.pinimg.com/originals/c5/59/bf/c559bfe36fcaa24deba7df9e4554e010.jpg\n",
            "[%] File Downloaded !\n",
            "\n",
            "[%] Downloading Image #5 from https://spy.com/wp-content/uploads/2020/10/Pure-Research-Mens-Moisturizing-Anti-Aging-Cream.jpg?resize=1024\n",
            "[%] File Downloaded !\n",
            "\n",
            "[%] Downloading Image #6 from http://arts-wallpapers.com/artwallpapersbiz/celebrities-men/images/Men_Man_with_flower_020739_.jpg\n",
            "[Error]Invalid image, not saving http://arts-wallpapers.com/artwallpapersbiz/celebrities-men/images/Men_Man_with_flower_020739_.jpg\n",
            "\n",
            "[!] Issue getting: http://arts-wallpapers.com/artwallpapersbiz/celebrities-men/images/Men_Man_with_flower_020739_.jpg\n",
            "[!] Error:: Invalid image, not saving http://arts-wallpapers.com/artwallpapersbiz/celebrities-men/images/Men_Man_with_flower_020739_.jpg\n",
            "\n",
            "[%] Downloading Image #6 from https://assets.thehansindia.com/h-upload/2021/01/20/1025839-men.jpg\n",
            "[%] File Downloaded !\n",
            "\n",
            "[%] Downloading Image #7 from https://4.bp.blogspot.com/-8X6fjfvXldk/UTXaqeKs7-I/AAAAAAAAB8o/tSOg4uE6jUc/s1600/men+and+black+suit.jpg+7.jpg\n",
            "[%] File Downloaded !\n",
            "\n",
            "[%] Downloading Image #8 from https://fashionablymale.net/wp-content/uploads/2015/05/men-tomas-maier-cruise16-david-schulze-look01.jpg\n",
            "[%] File Downloaded !\n",
            "\n",
            "[%] Downloading Image #9 from https://i.pinimg.com/originals/e0/2a/da/e02ada73aaf6a6fdac2e2e602d7bef22.jpg\n",
            "[%] File Downloaded !\n",
            "\n",
            "[%] Downloading Image #10 from https://i.pinimg.com/474x/b5/4e/cf/b54ecf41432aac59e7a6816305fc38c1--manly-man-color-fashion.jpg\n",
            "[%] File Downloaded !\n",
            "\n",
            "[%] Downloading Image #11 from http://media4.onsugar.com/files/2013/02/08/0/192/1922398/5cc0806d688815a2_a.xxxlarge/i/Best-Beards-Oscars-2013.jpg\n",
            "[!] Issue getting: http://media4.onsugar.com/files/2013/02/08/0/192/1922398/5cc0806d688815a2_a.xxxlarge/i/Best-Beards-Oscars-2013.jpg\n",
            "[!] Error:: HTTP Error 403: Forbidden\n",
            "[%] Downloading Image #11 from http://4.bp.blogspot.com/_TFMtLWpKA4E/TSZ57DIuzcI/AAAAAAAAJ34/6Huo-RXR7JI/s1600/zaramen3.jpg\n",
            "[%] File Downloaded !\n",
            "\n",
            "[%] Downloading Image #12 from http://cdn02.cdn.justjared.com/wp-content/uploads/2007/11/men-amas-07/men-amas-07-03.jpg\n",
            "[!] Issue getting: http://cdn02.cdn.justjared.com/wp-content/uploads/2007/11/men-amas-07/men-amas-07-03.jpg\n",
            "[!] Error:: HTTP Error 530: \n",
            "[%] Downloading Image #12 from https://abbyfashions.net/wp-content/uploads/2020/02/montique-2078-mens-walking-suits-grey-mens-two-piece-leisure-suits-scaled-e1581625726480.jpg\n",
            "[!] Issue getting: https://abbyfashions.net/wp-content/uploads/2020/02/montique-2078-mens-walking-suits-grey-mens-two-piece-leisure-suits-scaled-e1581625726480.jpg\n",
            "[!] Error:: HTTP Error 404: Not Found\n",
            "[%] Downloading Image #12 from https://i5.walmartimages.com/asr/e07e3df6-c371-46e1-91cc-5cb6614fba13.eac2e4acee59622a15d78989295266e3.jpeg\n",
            "[%] File Downloaded !\n",
            "\n",
            "[%] Downloading Image #13 from https://i.pinimg.com/originals/1d/c4/f9/1dc4f936a80d3af8ce019ea9fd1ce956.jpg\n",
            "[%] File Downloaded !\n",
            "\n",
            "[%] Downloading Image #14 from https://i.pinimg.com/originals/52/ec/69/52ec69239cb0e5b28093ef9317204a08.jpg\n",
            "[%] File Downloaded !\n",
            "\n",
            "[%] Downloading Image #15 from https://www.feedinspiration.com/wp-content/uploads/2015/07/Designer-Suit-For-Men.jpg\n",
            "[Error]Invalid image, not saving https://www.feedinspiration.com/wp-content/uploads/2015/07/Designer-Suit-For-Men.jpg\n",
            "\n",
            "[!] Issue getting: https://www.feedinspiration.com/wp-content/uploads/2015/07/Designer-Suit-For-Men.jpg\n",
            "[!] Error:: Invalid image, not saving https://www.feedinspiration.com/wp-content/uploads/2015/07/Designer-Suit-For-Men.jpg\n",
            "\n",
            "[%] Downloading Image #15 from http://torbenraun.files.wordpress.com/2014/01/spmen1campaign_hairjeffreyjanssenweb_torbenraun1.jpg\n",
            "[%] File Downloaded !\n",
            "\n",
            "[%] Downloading Image #16 from https://i.pinimg.com/originals/2e/e6/cd/2ee6cdf4967c26fe25d7132d29ab7811.jpg\n",
            "[%] File Downloaded !\n",
            "\n",
            "[%] Downloading Image #17 from https://soe.uncg.edu/wp-content/uploads/2018/12/DrBrianMcGowanHeadshot-crop.jpg\n",
            "[%] File Downloaded !\n",
            "\n",
            "[%] Downloading Image #18 from https://www.outfittrends.com/wp-content/uploads/2015/10/James-McAvoy-Daniel-Radcliffe-2015-Jameson-Awards-Tom-Lorenzo-Site-TLO-1-1.jpg\n",
            "[%] File Downloaded !\n",
            "\n",
            "[%] Downloading Image #19 from https://i.pinimg.com/originals/1c/64/23/1c642308e9abe86271cb2393f3ff0041.jpg\n",
            "[%] File Downloaded !\n",
            "\n",
            "[%] Downloading Image #20 from https://i.pinimg.com/originals/a5/99/1d/a5991d063825f40abc771e4055a1b865.jpg\n",
            "[%] File Downloaded !\n",
            "\n",
            "[%] Downloading Image #21 from https://worldzfeed.com/wp-content/uploads/2020/07/14277-scaled.jpg\n",
            "[%] File Downloaded !\n",
            "\n",
            "[%] Downloading Image #22 from https://fashionablymale.net/wp-content/uploads/2015/05/men-tomas-maier-cruise16-david-schulze-look07.jpg\n",
            "[%] File Downloaded !\n",
            "\n",
            "[%] Downloading Image #23 from http://f02.bis.bulcdn.net/fsh/6/5/1/0/f/64654/albums/a/0/a/61538/d/1/3/4892233.jpg?v=0\n",
            "[!] Issue getting: http://f02.bis.bulcdn.net/fsh/6/5/1/0/f/64654/albums/a/0/a/61538/d/1/3/4892233.jpg?v=0\n",
            "[!] Error:: timed out\n",
            "[%] Downloading Image #23 from https://i.pinimg.com/originals/69/fd/a4/69fda47e0738a90030859c3a2ed6aad5.jpg\n",
            "[%] File Downloaded !\n",
            "\n",
            "\n",
            "\n",
            "[!!]Indexing page: 2\n",
            "\n",
            "[%] Indexed 35 Images on Page 2.\n",
            "\n",
            "===============================================\n",
            "\n",
            "[%] Downloading Image #24 from https://oldnavy.gap.com/webcontent/0020/375/068/cn20375068.jpg\n",
            "[%] File Downloaded !\n",
            "\n",
            "[%] Downloading Image #25 from https://64.media.tumblr.com/tumblr_m7smrzODFu1qd1j90o1_500.jpg\n",
            "[Error]Invalid image, not saving https://64.media.tumblr.com/tumblr_m7smrzODFu1qd1j90o1_500.jpg\n",
            "\n",
            "[!] Issue getting: https://64.media.tumblr.com/tumblr_m7smrzODFu1qd1j90o1_500.jpg\n",
            "[!] Error:: Invalid image, not saving https://64.media.tumblr.com/tumblr_m7smrzODFu1qd1j90o1_500.jpg\n",
            "\n",
            "[%] Downloading Image #25 from http://menfash.us/wp-content/uploads/2013/03/Semi-formal-attire-for-Men-2013-4.jpg\n",
            "[Error]Invalid image, not saving http://menfash.us/wp-content/uploads/2013/03/Semi-formal-attire-for-Men-2013-4.jpg\n",
            "\n",
            "[!] Issue getting: http://menfash.us/wp-content/uploads/2013/03/Semi-formal-attire-for-Men-2013-4.jpg\n",
            "[!] Error:: Invalid image, not saving http://menfash.us/wp-content/uploads/2013/03/Semi-formal-attire-for-Men-2013-4.jpg\n",
            "\n",
            "[%] Downloading Image #25 from https://scherrer-gilles.book.fr/files/1/146551/g_30_EapzxcAy2I.jpg\n",
            "[%] File Downloaded !\n",
            "\n",
            "[%] Downloading Image #26 from https://pa.namshicdn.com/product/A0/76696W/1-zoom-desktop.jpg\n",
            "[%] File Downloaded !\n",
            "\n",
            "\n",
            "\n",
            "[!!]Indexing page: 3\n",
            "\n",
            "[%] Indexed 30 Images on Page 3.\n",
            "\n",
            "===============================================\n",
            "\n",
            "\n",
            "\n",
            "[!!]Indexing page: 4\n",
            "\n",
            "[%] Indexed 30 Images on Page 4.\n",
            "\n",
            "===============================================\n",
            "\n",
            "\n",
            "\n",
            "[!!]Indexing page: 5\n",
            "\n",
            "[%] Indexed 30 Images on Page 5.\n",
            "\n",
            "===============================================\n",
            "\n",
            "\n",
            "\n",
            "[!!]Indexing page: 6\n",
            "\n",
            "[%] Indexed 30 Images on Page 6.\n",
            "\n",
            "===============================================\n",
            "\n",
            "[%] Downloading Image #27 from https://akm-img-a-in.tosshub.com/indiatoday/images/story/201405/men_storysize_650_052714120249.jpg\n",
            "[%] File Downloaded !\n",
            "\n",
            "[%] Downloading Image #28 from https://64.media.tumblr.com/5238d2d3ea1c239b28cd4b48a5727bb4/tumblr_npr2s8zjCB1telcpwo1_1280.jpg\n",
            "[Error]Invalid image, not saving https://64.media.tumblr.com/5238d2d3ea1c239b28cd4b48a5727bb4/tumblr_npr2s8zjCB1telcpwo1_1280.jpg\n",
            "\n",
            "[!] Issue getting: https://64.media.tumblr.com/5238d2d3ea1c239b28cd4b48a5727bb4/tumblr_npr2s8zjCB1telcpwo1_1280.jpg\n",
            "[!] Error:: Invalid image, not saving https://64.media.tumblr.com/5238d2d3ea1c239b28cd4b48a5727bb4/tumblr_npr2s8zjCB1telcpwo1_1280.jpg\n",
            "\n",
            "[%] Downloading Image #28 from https://i.pinimg.com/474x/bf/b2/80/bfb280428e2009898fecac95a7628081--menswear-form.jpg\n",
            "[%] File Downloaded !\n",
            "\n",
            "[%] Downloading Image #29 from https://sfbaystyle.typepad.com/photos/uncategorized/2008/03/02/barneysmen08.jpg\n",
            "[!] Issue getting: https://sfbaystyle.typepad.com/photos/uncategorized/2008/03/02/barneysmen08.jpg\n",
            "[!] Error:: HTTP Error 403: Forbidden\n",
            "[%] Downloading Image #29 from https://4.bp.blogspot.com/-rW839NCOGKo/Umd2QjkfYaI/AAAAAAAACKA/A755YRFd8wo/s1600/MENWHOMATTER2013027.JPG\n",
            "[%] File Downloaded !\n",
            "\n",
            "[%] Downloading Image #30 from https://fashionablymale.net/wp-content/uploads/2015/05/men-tomas-maier-cruise16-david-schulze-look21.jpg\n",
            "[%] File Downloaded !\n",
            "\n",
            "\n",
            "\n",
            "[%] Done. Downloaded 30 images.\n",
            "time: 1min 17s (started: 2024-01-24 10:53:26 +00:00)\n"
          ]
        }
      ]
    },
    {
      "cell_type": "code",
      "source": [
        "downloader.download(\"women\", limit=30, output_dir='images', adult_filter_off=True)"
      ],
      "metadata": {
        "colab": {
          "base_uri": "https://localhost:8080/"
        },
        "id": "vQU-AzXWVv8u",
        "outputId": "4bf579a9-5067-4764-ef6c-74bd0fc85861"
      },
      "execution_count": null,
      "outputs": [
        {
          "output_type": "stream",
          "name": "stdout",
          "text": [
            "[%] Downloading Images to /content/images/women\n",
            "\n",
            "\n",
            "[!!]Indexing page: 1\n",
            "\n",
            "[%] Indexed 30 Images on Page 1.\n",
            "\n",
            "===============================================\n",
            "\n",
            "[%] Downloading Image #1 from https://www.brandedgirls.com/wp-content/uploads/2015/10/130.jpg\n",
            "[%] File Downloaded !\n",
            "\n",
            "[%] Downloading Image #2 from http://1.bp.blogspot.com/-Ggml0phl4HU/Th746fl5snI/AAAAAAAAAPg/eHJZ9tgSEUE/s1600/s_istock_000011271336medium.jpg\n",
            "[%] File Downloaded !\n",
            "\n",
            "[%] Downloading Image #3 from http://static1.businessinsider.com/image/52716a64eab8ea074ffb2959/meet-the-woman-hp-has-put-in-charge-of-taking-down-its-big-rival-cisco.jpg\n",
            "[%] File Downloaded !\n",
            "\n",
            "[%] Downloading Image #4 from https://www.internationallovescout.com/wp-content/uploads/2020/02/monika-jagaciak-sexy-polish-fashion-model-1152x1536.jpg\n",
            "[%] File Downloaded !\n",
            "\n",
            "[%] Downloading Image #5 from https://vistapointe.net/images/women-7.jpg\n",
            "[%] File Downloaded !\n",
            "\n",
            "[%] Downloading Image #6 from https://jooinn.com/images/pretty-girl-15.jpg\n",
            "[%] File Downloaded !\n",
            "\n",
            "[%] Downloading Image #7 from http://susanshacter.com/wp-content/gallery/headshots-women-5/28-28Megan-Greener.jpg\n",
            "[%] File Downloaded !\n",
            "\n",
            "[%] Downloading Image #8 from https://i.pinimg.com/originals/03/a2/89/03a2890a67d071ed3ed8036226226b28.jpg\n",
            "[%] File Downloaded !\n",
            "\n",
            "[%] Downloading Image #9 from https://c1.wallpaperflare.com/preview/291/520/945/model-beautiful-women-s-people.jpg\n",
            "[%] File Downloaded !\n",
            "\n",
            "[%] Downloading Image #10 from https://dkemhji6i1k0x.cloudfront.net/000_clients/81492/page/81492niLVB9DK.jpg\n",
            "[%] File Downloaded !\n",
            "\n",
            "[%] Downloading Image #11 from https://wp-media.familytoday.com/2016/07/featuredImageId27914.jpg\n",
            "[%] File Downloaded !\n",
            "\n",
            "[%] Downloading Image #12 from http://images.huffingtonpost.com/2016-07-12-1468344897-2534060-Standard_1200x800_AlenaKanabova_1.jpg\n",
            "[%] File Downloaded !\n",
            "\n",
            "[%] Downloading Image #13 from https://www.pradco.com/wp-content/uploads/2016/09/women-in-leadership-program.jpg\n",
            "[%] File Downloaded !\n",
            "\n",
            "[%] Downloading Image #14 from https://tobephotography.weebly.com/uploads/8/3/8/0/8380902/3809326_orig.jpg\n",
            "[%] File Downloaded !\n",
            "\n",
            "[%] Downloading Image #15 from https://s1.r29static.com/bin/entry/77a/0,975,2000,1050/x,80/1792460/image.jpg\n",
            "[%] File Downloaded !\n",
            "\n",
            "[%] Downloading Image #16 from http://ww1.prweb.com/prfiles/2013/10/10/11343967/KimK Head shot.jpg\n",
            "[!] Issue getting: http://ww1.prweb.com/prfiles/2013/10/10/11343967/KimK Head shot.jpg\n",
            "[!] Error:: URL can't contain control characters. '/prfiles/2013/10/10/11343967/KimK Head shot.jpg' (found at least ' ')\n",
            "[%] Downloading Image #16 from http://www.slate.com/content/dam/slate/blogs/xx_factor/2014/susan.jpg.CROP.promo-mediumlarge.jpg\n",
            "[%] File Downloaded !\n",
            "\n",
            "[%] Downloading Image #17 from https://www.inewsindia.com/wp-content/uploads/2012/03/depression_in_women.jpg\n",
            "[%] File Downloaded !\n",
            "\n",
            "[%] Downloading Image #18 from http://bertc.com/subsix/i101/images/101-33.jpg\n",
            "[Error]Invalid image, not saving http://bertc.com/subsix/i101/images/101-33.jpg\n",
            "\n",
            "[!] Issue getting: http://bertc.com/subsix/i101/images/101-33.jpg\n",
            "[!] Error:: Invalid image, not saving http://bertc.com/subsix/i101/images/101-33.jpg\n",
            "\n",
            "[%] Downloading Image #18 from http://www.reckontalk.com/wp-content/uploads/2015/08/Top-10-Africa’s-Nation-with-Most-Beautiful-Hot-Women-Black-Diamond-2015-5.jpg\n",
            "[!] Issue getting: http://www.reckontalk.com/wp-content/uploads/2015/08/Top-10-Africa’s-Nation-with-Most-Beautiful-Hot-Women-Black-Diamond-2015-5.jpg\n",
            "[!] Error:: 'ascii' codec can't encode character '\\u2019' in position 45: ordinal not in range(128)\n",
            "[%] Downloading Image #18 from https://www.liveaction.org/news/wp-content/uploads/2012/07/dreamstime_s_22841388.jpg\n",
            "[%] File Downloaded !\n",
            "\n",
            "[%] Downloading Image #19 from https://c.wallhere.com/photos/49/32/women_blonde_face_women_outdoors_rocks_bikini_belly_tanned-1327063.jpg!d\n",
            "[%] File Downloaded !\n",
            "\n",
            "[%] Downloading Image #20 from https://s-s.huffpost.com/contributors/judith-rosenbaum/headshot.jpg\n",
            "[%] File Downloaded !\n",
            "\n",
            "[%] Downloading Image #21 from https://cherokeewomenshealth.com/wp-content/uploads/2019/12/older-happy-woman-AdobeStock_303283234-2-1-1024x1024.jpeg\n",
            "[%] File Downloaded !\n",
            "\n",
            "[%] Downloading Image #22 from https://i.pinimg.com/280x280_RS/4a/13/94/4a1394e2ce3567479edb5d7ee46edeaf.jpg\n",
            "[%] File Downloaded !\n",
            "\n",
            "[%] Downloading Image #23 from https://oldnavy.gap.com/webcontent/0022/703/311/cn22703311.jpg\n",
            "[%] File Downloaded !\n",
            "\n",
            "[%] Downloading Image #24 from https://imageproxy.viewbook.com/38cae043d43ce15bd2ee448100b6fca6_hd.jpg?fit=max&amp;h=1280&amp;w=1280\n",
            "[%] File Downloaded !\n",
            "\n",
            "[%] Downloading Image #25 from http://static6.businessinsider.com/image/535fe98fecad0458446d5797/how-one-woman-paid-off-23000-of-debt-in-15-months.jpg\n",
            "[%] File Downloaded !\n",
            "\n",
            "[%] Downloading Image #26 from https://i.pinimg.com/originals/55/34/3a/55343af02a2b524bbd8e21ccb0df5f79.jpg\n",
            "[%] File Downloaded !\n",
            "\n",
            "[%] Downloading Image #27 from http://www.themarketingblog.co.uk/wp-content/uploads/2013/03/Sam-colour-front-e1357248471604.jpg\n",
            "[%] File Downloaded !\n",
            "\n",
            "\n",
            "\n",
            "[!!]Indexing page: 2\n",
            "\n",
            "[%] Indexed 35 Images on Page 2.\n",
            "\n",
            "===============================================\n",
            "\n",
            "[%] Downloading Image #28 from https://oc-media.org/app/uploads/2020/09/Armenia-women-militarism-17-09-20.jpg\n",
            "[%] File Downloaded !\n",
            "\n",
            "[%] Downloading Image #29 from https://lookaside.fbsbx.com/lookaside/crawler/media/?media_id=100060722263892\n",
            "[Error]Invalid image, not saving https://lookaside.fbsbx.com/lookaside/crawler/media/?media_id=100060722263892\n",
            "\n",
            "[!] Issue getting: https://lookaside.fbsbx.com/lookaside/crawler/media/?media_id=100060722263892\n",
            "[!] Error:: Invalid image, not saving https://lookaside.fbsbx.com/lookaside/crawler/media/?media_id=100060722263892\n",
            "\n",
            "[%] Downloading Image #29 from https://i.pinimg.com/originals/28/92/a8/2892a8c558ec5210787a2f40129e12c2.jpg\n",
            "[%] File Downloaded !\n",
            "\n",
            "[%] Downloading Image #30 from https://lookaside.fbsbx.com/lookaside/crawler/media/?media_id=931813883596300\n",
            "[Error]Invalid image, not saving https://lookaside.fbsbx.com/lookaside/crawler/media/?media_id=931813883596300\n",
            "\n",
            "[!] Issue getting: https://lookaside.fbsbx.com/lookaside/crawler/media/?media_id=931813883596300\n",
            "[!] Error:: Invalid image, not saving https://lookaside.fbsbx.com/lookaside/crawler/media/?media_id=931813883596300\n",
            "\n",
            "[%] Downloading Image #30 from https://oldnavy.gap.com/webcontent/0028/664/540/cn28664540.jpg\n",
            "[%] File Downloaded !\n",
            "\n",
            "\n",
            "\n",
            "[%] Done. Downloaded 30 images.\n",
            "time: 11.5 s (started: 2024-01-24 10:55:04 +00:00)\n"
          ]
        }
      ]
    },
    {
      "cell_type": "code",
      "source": [
        "downloader.download(\"baby\", limit=30, output_dir='images', adult_filter_off=True)"
      ],
      "metadata": {
        "colab": {
          "base_uri": "https://localhost:8080/"
        },
        "id": "acBzhQw6WIdS",
        "outputId": "8095c163-2a5b-49b4-ba8a-4d5029e603b2"
      },
      "execution_count": null,
      "outputs": [
        {
          "output_type": "stream",
          "name": "stdout",
          "text": [
            "[%] Downloading Images to /content/images/baby\n",
            "\n",
            "\n",
            "[!!]Indexing page: 1\n",
            "\n",
            "[%] Indexed 30 Images on Page 1.\n",
            "\n",
            "===============================================\n",
            "\n",
            "[%] Downloading Image #1 from http://images2.fanpop.com/image/photos/8800000/Baby-babies-8803234-2389-1713.jpg\n",
            "[%] File Downloaded !\n",
            "\n",
            "[%] Downloading Image #2 from https://www.drupal.org/files/project-images/Baby_Face.JPG\n",
            "[%] File Downloaded !\n",
            "\n",
            "[%] Downloading Image #3 from https://www.goodfreephotos.com/albums/people/smiling-baby.jpg\n",
            "[%] File Downloaded !\n",
            "\n",
            "[%] Downloading Image #4 from http://2.bp.blogspot.com/-ElZIb-gFtZY/UuokEI25vWI/AAAAAAAAAoU/O45UNMdN_a0/s1600/ubtan+for+babies.jpg\n",
            "[%] File Downloaded !\n",
            "\n",
            "[%] Downloading Image #5 from https://loonylabs.files.wordpress.com/2015/01/talking-to-babies.jpg\n",
            "[%] File Downloaded !\n",
            "\n",
            "[%] Downloading Image #6 from http://media1.santabanta.com/full1/Miscellaneous/Baby/baby-146a.jpg\n",
            "[!] Issue getting: http://media1.santabanta.com/full1/Miscellaneous/Baby/baby-146a.jpg\n",
            "[!] Error:: <urlopen error [Errno -3] Temporary failure in name resolution>\n",
            "[%] Downloading Image #6 from https://1.bp.blogspot.com/-B7MdjBAh_bE/V34QNcPNKtI/AAAAAAAALAg/oogWw-hb_XIVyLfG81briw3shjBYPHkdACLcB/s320/050810_kaily043.jpg\n",
            "[%] File Downloaded !\n",
            "\n",
            "[%] Downloading Image #7 from http://4.bp.blogspot.com/_Mw1lxnXiekI/TEQsg0TyRoI/AAAAAAAACQg/tnoGI3tuplE/s1600/smiling-newborn-photo.jpg\n",
            "[%] File Downloaded !\n",
            "\n",
            "[%] Downloading Image #8 from http://images.wisegeek.com/little-baby-in-white.jpg\n",
            "[%] File Downloaded !\n",
            "\n",
            "[%] Downloading Image #9 from https://cdn.sharechat.com/ca07e33_1586940096896.jpeg\n",
            "[%] File Downloaded !\n",
            "\n",
            "[%] Downloading Image #10 from https://blog.pregistry.com/wp-content/uploads/2017/01/AdobeStock_53985748.jpeg\n",
            "[%] File Downloaded !\n",
            "\n",
            "[%] Downloading Image #11 from https://pngimg.com/uploads/baby/baby_PNG51706.png\n",
            "[%] File Downloaded !\n",
            "\n",
            "[%] Downloading Image #12 from https://www.toxel.com/wp-content/uploads/2019/07/babiesteeth04.jpg\n",
            "[%] File Downloaded !\n",
            "\n",
            "[%] Downloading Image #13 from https://www.brooklynfeed.com/wp-content/uploads/2014/06/baby-bird-1024x1024.jpg\n",
            "[%] File Downloaded !\n",
            "\n",
            "[%] Downloading Image #14 from https://ae01.alicdn.com/kf/HTB172OTP9zqK1RjSZPcq6zTepXaW/Baby-Girl-Fabric-Messy-Bow-Headband-Nylon-Headband-Newborn-Large-Bow-Headwrap-Infant-Bebes-Hair-Bows.jpg\n",
            "[%] File Downloaded !\n",
            "\n",
            "[%] Downloading Image #15 from https://www.oregonlive.com/resizer/qrheTsSFcL5scFH31F6zVjZTNNc=/1280x0/smart/advancelocal-adapter-image-uploads.s3.amazonaws.com/expo.advance.net/img/cb6f17c89c/width2048/d75_screenshot20190412at13959pm.jpeg\n",
            "[%] File Downloaded !\n",
            "\n",
            "[%] Downloading Image #16 from https://lookaside.fbsbx.com/lookaside/crawler/media/?media_id=663149540802438\n",
            "[Error]Invalid image, not saving https://lookaside.fbsbx.com/lookaside/crawler/media/?media_id=663149540802438\n",
            "\n",
            "[!] Issue getting: https://lookaside.fbsbx.com/lookaside/crawler/media/?media_id=663149540802438\n",
            "[!] Error:: Invalid image, not saving https://lookaside.fbsbx.com/lookaside/crawler/media/?media_id=663149540802438\n",
            "\n",
            "[%] Downloading Image #16 from https://ae01.alicdn.com/kf/HTB1Aqnqf_CWBKNjSZFtq6yC3FXa5/22-Inch-Soft-Silicone-Newborn-Baby-Doll-Red-Face-Reborn-Babies-Doll-Lifelike-Real-Baby-Doll.jpg\n",
            "[%] File Downloaded !\n",
            "\n",
            "[%] Downloading Image #17 from http://2.bp.blogspot.com/-BoUxihtBYAI/UDEiizdBYZI/AAAAAAAAAko/0wFRN__bLk4/w1200-h630-p-k-no-nu/Flower+Names+For+Babies-01.jpg\n",
            "[%] File Downloaded !\n",
            "\n",
            "[%] Downloading Image #18 from http://media1.santabanta.com/full1/Miscellaneous/Baby/baby-208a.jpg\n",
            "[!] Issue getting: http://media1.santabanta.com/full1/Miscellaneous/Baby/baby-208a.jpg\n",
            "[!] Error:: <urlopen error [Errno -3] Temporary failure in name resolution>\n",
            "[%] Downloading Image #18 from https://i.pinimg.com/originals/95/89/2f/95892fbd86aa6fcd4828ec8d4ff6aee3.jpg\n",
            "[%] File Downloaded !\n",
            "\n",
            "[%] Downloading Image #19 from http://media1.santabanta.com/full1/Miscellaneous/Baby/baby-86a.jpg\n",
            "[!] Issue getting: http://media1.santabanta.com/full1/Miscellaneous/Baby/baby-86a.jpg\n",
            "[!] Error:: <urlopen error [Errno -3] Temporary failure in name resolution>\n",
            "[%] Downloading Image #19 from https://lookaside.fbsbx.com/lookaside/crawler/media/?media_id=113046896827387\n",
            "[Error]Invalid image, not saving https://lookaside.fbsbx.com/lookaside/crawler/media/?media_id=113046896827387\n",
            "\n",
            "[!] Issue getting: https://lookaside.fbsbx.com/lookaside/crawler/media/?media_id=113046896827387\n",
            "[!] Error:: Invalid image, not saving https://lookaside.fbsbx.com/lookaside/crawler/media/?media_id=113046896827387\n",
            "\n",
            "[%] Downloading Image #19 from https://s-media-cache-ak0.pinimg.com/originals/3e/79/48/3e7948d133caf225a2569b589db86490.jpg\n",
            "[%] File Downloaded !\n",
            "\n",
            "[%] Downloading Image #20 from https://i.pinimg.com/originals/18/85/77/188577f0c2fe3eaa3edef6158fe9e079.jpg\n",
            "[%] File Downloaded !\n",
            "\n",
            "[%] Downloading Image #21 from https://i.pinimg.com/originals/53/a1/fd/53a1fdebaceda3950e83f79ec8a4e31c.jpg\n",
            "[%] File Downloaded !\n",
            "\n",
            "[%] Downloading Image #22 from http://images5.fanpop.com/image/photos/25900000/Sweet-Baby-sweety-babies-25909592-2560-1600.jpg\n",
            "[%] File Downloaded !\n",
            "\n",
            "[%] Downloading Image #23 from https://media.4rgos.it/i/Argos/4835178_R_Z001A\n",
            "[%] File Downloaded !\n",
            "\n",
            "[%] Downloading Image #24 from https://www.baby-chick.com/wp-content/uploads/2020/10/Baby-Blue-Eyes-1082408616_2122x1416.jpeg\n",
            "[%] File Downloaded !\n",
            "\n",
            "[%] Downloading Image #25 from https://wallpapercave.com/wp/wp2982141.jpg\n",
            "[%] File Downloaded !\n",
            "\n",
            "\n",
            "\n",
            "[!!]Indexing page: 2\n",
            "\n",
            "[%] Indexed 35 Images on Page 2.\n",
            "\n",
            "===============================================\n",
            "\n",
            "[%] Downloading Image #26 from https://i.pinimg.com/originals/56/41/6e/56416e9f4ea2fcd0afb1205a54161f11.jpg\n",
            "[%] File Downloaded !\n",
            "\n",
            "[%] Downloading Image #27 from https://thumbs.dreamstime.com/b/newborn-baby-5835715.jpg\n",
            "[%] File Downloaded !\n",
            "\n",
            "[%] Downloading Image #28 from https://thumbs.dreamstime.com/b/happy-baby-10498095.jpg\n",
            "[%] File Downloaded !\n",
            "\n",
            "[%] Downloading Image #29 from https://thumbs.dreamstime.com/b/baby-smiling-1069022.jpg\n",
            "[%] File Downloaded !\n",
            "\n",
            "[%] Downloading Image #30 from https://thumbs.dreamstime.com/b/cute-baby-11937090.jpg\n",
            "[%] File Downloaded !\n",
            "\n",
            "\n",
            "\n",
            "[%] Done. Downloaded 30 images.\n",
            "time: 10.7 s (started: 2024-01-24 10:55:21 +00:00)\n"
          ]
        }
      ]
    },
    {
      "cell_type": "markdown",
      "source": [
        "# Pre-Processing"
      ],
      "metadata": {
        "id": "TrdaErgaXItD"
      }
    },
    {
      "cell_type": "code",
      "source": [
        "# 1. Resizing\n",
        "# 2. Flatten()"
      ],
      "metadata": {
        "id": "scj0MWx5cHt9"
      },
      "execution_count": null,
      "outputs": []
    },
    {
      "cell_type": "code",
      "source": [
        "import numpy as np\n",
        "\n",
        "a = np.array([[1,2,3,4,5],[4,5,6,7,8]])\n",
        "a.ndim"
      ],
      "metadata": {
        "colab": {
          "base_uri": "https://localhost:8080/"
        },
        "id": "e2OYEMA4ZAcV",
        "outputId": "12a53cfb-8d89-4b1a-8e93-b93ecd93754b"
      },
      "execution_count": null,
      "outputs": [
        {
          "output_type": "execute_result",
          "data": {
            "text/plain": [
              "2"
            ]
          },
          "metadata": {},
          "execution_count": 11
        },
        {
          "output_type": "stream",
          "name": "stdout",
          "text": [
            "time: 4.84 ms (started: 2024-01-24 10:55:36 +00:00)\n"
          ]
        }
      ]
    },
    {
      "cell_type": "code",
      "source": [
        "#How to convert matrix to vector? - flatten()\n",
        "a.flatten()"
      ],
      "metadata": {
        "colab": {
          "base_uri": "https://localhost:8080/"
        },
        "id": "_CrBmy7JZiF1",
        "outputId": "2cd3f428-a47e-4369-f49a-56060e798d2d"
      },
      "execution_count": null,
      "outputs": [
        {
          "output_type": "execute_result",
          "data": {
            "text/plain": [
              "array([1, 2, 3, 4, 5, 4, 5, 6, 7, 8])"
            ]
          },
          "metadata": {},
          "execution_count": 12
        },
        {
          "output_type": "stream",
          "name": "stdout",
          "text": [
            "time: 4.7 ms (started: 2024-01-24 10:55:37 +00:00)\n"
          ]
        }
      ]
    },
    {
      "cell_type": "code",
      "source": [
        "import os\n",
        "import matplotlib.pyplot as plt #display image\n",
        "import numpy as np #numerical calculating\n",
        "from skimage.io import imread #reading image(other used opencv)\n",
        "from skimage.transform import resize #all image not specific size in ml\n",
        "\n",
        "#input and output format data\n",
        "#pixel form of h x w\n",
        "\n",
        "target = []\n",
        "images = [] #2d\n",
        "flat_data = []\n",
        "\n",
        "DATADIR = '/content/images'\n",
        "CATEGORIES = ['men', 'women', 'baby']\n",
        "\n",
        "for category in CATEGORIES:\n",
        "  class_num = CATEGORIES.index(category) #Label Encoding the values\n",
        "  #print(class_num)\n",
        "  path = os.path.join(DATADIR, category) #Create path to use all the images\n",
        "  #print(path)\n",
        "  for img in os.listdir(path):\n",
        "    img_array = imread(os.path.join(path, img))\n",
        "    #print(img_array)\n",
        "    #print(img_array.shape)\n",
        "    #plt.imshow(img_array)\n",
        "    img_resized = resize(img_array,(150,150,3)) #Normalization 0 to 1\n",
        "    flat_data.append(img_resized.flatten())\n",
        "    images.append(img_resized)\n",
        "    target.append(class_num)\n",
        "\n",
        "flat_data = np.array(flat_data)\n",
        "target = np.array(target)\n",
        "images = np.array(images)"
      ],
      "metadata": {
        "colab": {
          "base_uri": "https://localhost:8080/"
        },
        "id": "y41HRjaCXOHe",
        "outputId": "c523497b-09cd-46a3-f60b-12c81927fef8"
      },
      "execution_count": null,
      "outputs": [
        {
          "output_type": "stream",
          "name": "stdout",
          "text": [
            "time: 1min 9s (started: 2024-01-24 10:55:40 +00:00)\n"
          ]
        }
      ]
    },
    {
      "cell_type": "code",
      "source": [
        "flat_data[0]"
      ],
      "metadata": {
        "colab": {
          "base_uri": "https://localhost:8080/"
        },
        "id": "vuS_FIT1dxjc",
        "outputId": "ae37cf36-1154-437a-9861-e93d380d821e"
      },
      "execution_count": null,
      "outputs": [
        {
          "output_type": "execute_result",
          "data": {
            "text/plain": [
              "array([0.89028444, 0.89896479, 0.91337192, ..., 0.76336219, 0.69901909,\n",
              "       0.64280208])"
            ]
          },
          "metadata": {},
          "execution_count": 14
        },
        {
          "output_type": "stream",
          "name": "stdout",
          "text": [
            "time: 5.58 ms (started: 2024-01-24 10:57:05 +00:00)\n"
          ]
        }
      ]
    },
    {
      "cell_type": "code",
      "source": [
        "len(flat_data[0])"
      ],
      "metadata": {
        "colab": {
          "base_uri": "https://localhost:8080/"
        },
        "id": "WJXct2t2eQQT",
        "outputId": "7f4a522f-9553-4edc-bb26-52985b9b6247"
      },
      "execution_count": null,
      "outputs": [
        {
          "output_type": "execute_result",
          "data": {
            "text/plain": [
              "67500"
            ]
          },
          "metadata": {},
          "execution_count": 11
        },
        {
          "output_type": "stream",
          "name": "stdout",
          "text": [
            "time: 2.35 ms (started: 2024-01-24 02:29:57 +00:00)\n"
          ]
        }
      ]
    },
    {
      "cell_type": "code",
      "source": [
        "150*150*3"
      ],
      "metadata": {
        "colab": {
          "base_uri": "https://localhost:8080/"
        },
        "id": "GEPmrzwweJuR",
        "outputId": "bcd72211-4ad6-4bdb-f7da-5ad67b96d3e2"
      },
      "execution_count": null,
      "outputs": [
        {
          "output_type": "execute_result",
          "data": {
            "text/plain": [
              "67500"
            ]
          },
          "metadata": {},
          "execution_count": 31
        },
        {
          "output_type": "stream",
          "name": "stdout",
          "text": [
            "time: 3.23 ms (started: 2024-01-23 11:07:47 +00:00)\n"
          ]
        }
      ]
    },
    {
      "cell_type": "code",
      "source": [
        "target"
      ],
      "metadata": {
        "colab": {
          "base_uri": "https://localhost:8080/"
        },
        "id": "gAQaT_RKeWCd",
        "outputId": "09baedb3-9d02-4fc7-d01c-1fd8c07fd3f7"
      },
      "execution_count": null,
      "outputs": [
        {
          "output_type": "execute_result",
          "data": {
            "text/plain": [
              "array([0, 0, 0, 0, 0, 0, 0, 0, 0, 0, 0, 0, 0, 0, 0, 0, 0, 0, 0, 0, 0, 0,\n",
              "       0, 0, 0, 0, 0, 0, 0, 0, 1, 1, 1, 1, 1, 1, 1, 1, 1, 1, 1, 1, 1, 1,\n",
              "       1, 1, 1, 1, 1, 1, 1, 1, 1, 1, 1, 1, 1, 1, 1, 1, 2, 2, 2, 2, 2, 2,\n",
              "       2, 2, 2, 2, 2, 2, 2, 2, 2, 2, 2, 2, 2, 2, 2, 2, 2, 2, 2, 2, 2, 2,\n",
              "       2, 2])"
            ]
          },
          "metadata": {},
          "execution_count": 15
        },
        {
          "output_type": "stream",
          "name": "stdout",
          "text": [
            "time: 3.98 ms (started: 2024-01-24 10:57:14 +00:00)\n"
          ]
        }
      ]
    },
    {
      "cell_type": "code",
      "source": [
        "unique,count = np.unique(target, return_counts=True)\n",
        "plt.bar(CATEGORIES, count)"
      ],
      "metadata": {
        "colab": {
          "base_uri": "https://localhost:8080/",
          "height": 465
        },
        "id": "V2r094qxeZk8",
        "outputId": "31565062-809a-415c-c391-b40e35066a55"
      },
      "execution_count": null,
      "outputs": [
        {
          "output_type": "execute_result",
          "data": {
            "text/plain": [
              "<BarContainer object of 3 artists>"
            ]
          },
          "metadata": {},
          "execution_count": 16
        },
        {
          "output_type": "display_data",
          "data": {
            "text/plain": [
              "<Figure size 640x480 with 1 Axes>"
            ],
            "image/png": "[encoded data removed]"
          },
          "metadata": {}
        },
        {
          "output_type": "stream",
          "name": "stdout",
          "text": [
            "time: 197 ms (started: 2024-01-24 10:57:17 +00:00)\n"
          ]
        }
      ]
    },
    {
      "cell_type": "markdown",
      "source": [
        "# Split Data into Training & Testing"
      ],
      "metadata": {
        "id": "VZISAjEEe9H5"
      }
    },
    {
      "cell_type": "code",
      "source": [
        "from sklearn.model_selection import train_test_split\n",
        "x_train,x_test,y_train,y_test = train_test_split(flat_data, target,\n",
        "                                                 test_size=0.3, random_state=109)"
      ],
      "metadata": {
        "colab": {
          "base_uri": "https://localhost:8080/"
        },
        "id": "Qeb0LT0DfFo1",
        "outputId": "a287e7b8-2304-447c-8958-e08e3a18e000"
      },
      "execution_count": null,
      "outputs": [
        {
          "output_type": "stream",
          "name": "stdout",
          "text": [
            "time: 201 ms (started: 2024-01-24 10:57:21 +00:00)\n"
          ]
        }
      ]
    },
    {
      "cell_type": "code",
      "source": [
        "from sklearn.model_selection import GridSearchCV\n",
        "from sklearn import svm\n",
        "param_grid = [\n",
        "    {'C':[1,10,100,1000],'kernel':['liner']},\n",
        "    {'C':[1,10,100,1000],'gamma':[0.001,0.0001],'kernel':['rbf']},\n",
        "]\n",
        "\n",
        "svc = svm.SVC(probability=True)\n",
        "clf = GridSearchCV(svc, param_grid)\n",
        "clf.fit(x_train,y_train)"
      ],
      "metadata": {
        "colab": {
          "base_uri": "https://localhost:8080/",
          "height": 553
        },
        "id": "gwY6SSPFf7xU",
        "outputId": "c6f72132-e700-479b-b63c-0086670aa6c8"
      },
      "execution_count": null,
      "outputs": [
        {
          "output_type": "stream",
          "name": "stderr",
          "text": [
            "/usr/local/lib/python3.10/dist-packages/sklearn/model_selection/_validation.py:378: FitFailedWarning: \n",
            "20 fits failed out of a total of 60.\n",
            "The score on these train-test partitions for these parameters will be set to nan.\n",
            "If these failures are not expected, you can try to debug them by setting error_score='raise'.\n",
            "\n",
            "Below are more details about the failures:\n",
            "--------------------------------------------------------------------------------\n",
            "20 fits failed with the following error:\n",
            "Traceback (most recent call last):\n",
            "  File \"/usr/local/lib/python3.10/dist-packages/sklearn/model_selection/_validation.py\", line 686, in _fit_and_score\n",
            "    estimator.fit(X_train, y_train, **fit_params)\n",
            "  File \"/usr/local/lib/python3.10/dist-packages/sklearn/svm/_base.py\", line 180, in fit\n",
            "    self._validate_params()\n",
            "  File \"/usr/local/lib/python3.10/dist-packages/sklearn/base.py\", line 600, in _validate_params\n",
            "    validate_parameter_constraints(\n",
            "  File \"/usr/local/lib/python3.10/dist-packages/sklearn/utils/_param_validation.py\", line 97, in validate_parameter_constraints\n",
            "    raise InvalidParameterError(\n",
            "sklearn.utils._param_validation.InvalidParameterError: The 'kernel' parameter of SVC must be a str among {'precomputed', 'linear', 'sigmoid', 'poly', 'rbf'} or a callable. Got 'liner' instead.\n",
            "\n",
            "  warnings.warn(some_fits_failed_message, FitFailedWarning)\n",
            "/usr/local/lib/python3.10/dist-packages/sklearn/model_selection/_search.py:952: UserWarning: One or more of the test scores are non-finite: [       nan        nan        nan        nan 0.49358974 0.47564103\n",
            " 0.52564103 0.50641026 0.52564103 0.50641026 0.52564103 0.50641026]\n",
            "  warnings.warn(\n"
          ]
        },
        {
          "output_type": "execute_result",
          "data": {
            "text/plain": [
              "GridSearchCV(estimator=SVC(probability=True),\n",
              "             param_grid=[{'C': [1, 10, 100, 1000], 'kernel': ['liner']},\n",
              "                         {'C': [1, 10, 100, 1000], 'gamma': [0.001, 0.0001],\n",
              "                          'kernel': ['rbf']}])"
            ],
            "text/html": [
              "<style>#sk-container-id-1 {color: black;background-color: white;}#sk-container-id-1 pre{padding: 0;}#sk-container-id-1 div.sk-toggleable {background-color: white;}#sk-container-id-1 label.sk-toggleable__label {cursor: pointer;display: block;width: 100%;margin-bottom: 0;padding: 0.3em;box-sizing: border-box;text-align: center;}#sk-container-id-1 label.sk-toggleable__label-arrow:before {content: \"▸\";float: left;margin-right: 0.25em;color: #696969;}#sk-container-id-1 label.sk-toggleable__label-arrow:hover:before {color: black;}#sk-container-id-1 div.sk-estimator:hover label.sk-toggleable__label-arrow:before {color: black;}#sk-container-id-1 div.sk-toggleable__content {max-height: 0;max-width: 0;overflow: hidden;text-align: left;background-color: #f0f8ff;}#sk-container-id-1 div.sk-toggleable__content pre {margin: 0.2em;color: black;border-radius: 0.25em;background-color: #f0f8ff;}#sk-container-id-1 input.sk-toggleable__control:checked~div.sk-toggleable__content {max-height: 200px;max-width: 100%;overflow: auto;}#sk-container-id-1 input.sk-toggleable__control:checked~label.sk-toggleable__label-arrow:before {content: \"▾\";}#sk-container-id-1 div.sk-estimator input.sk-toggleable__control:checked~label.sk-toggleable__label {background-color: #d4ebff;}#sk-container-id-1 div.sk-label input.sk-toggleable__control:checked~label.sk-toggleable__label {background-color: #d4ebff;}#sk-container-id-1 input.sk-hidden--visually {border: 0;clip: rect(1px 1px 1px 1px);clip: rect(1px, 1px, 1px, 1px);height: 1px;margin: -1px;overflow: hidden;padding: 0;position: absolute;width: 1px;}#sk-container-id-1 div.sk-estimator {font-family: monospace;background-color: #f0f8ff;border: 1px dotted black;border-radius: 0.25em;box-sizing: border-box;margin-bottom: 0.5em;}#sk-container-id-1 div.sk-estimator:hover {background-color: #d4ebff;}#sk-container-id-1 div.sk-parallel-item::after {content: \"\";width: 100%;border-bottom: 1px solid gray;flex-grow: 1;}#sk-container-id-1 div.sk-label:hover label.sk-toggleable__label {background-color: #d4ebff;}#sk-container-id-1 div.sk-serial::before {content: \"\";position: absolute;border-left: 1px solid gray;box-sizing: border-box;top: 0;bottom: 0;left: 50%;z-index: 0;}#sk-container-id-1 div.sk-serial {display: flex;flex-direction: column;align-items: center;background-color: white;padding-right: 0.2em;padding-left: 0.2em;position: relative;}#sk-container-id-1 div.sk-item {position: relative;z-index: 1;}#sk-container-id-1 div.sk-parallel {display: flex;align-items: stretch;justify-content: center;background-color: white;position: relative;}#sk-container-id-1 div.sk-item::before, #sk-container-id-1 div.sk-parallel-item::before {content: \"\";position: absolute;border-left: 1px solid gray;box-sizing: border-box;top: 0;bottom: 0;left: 50%;z-index: -1;}#sk-container-id-1 div.sk-parallel-item {display: flex;flex-direction: column;z-index: 1;position: relative;background-color: white;}#sk-container-id-1 div.sk-parallel-item:first-child::after {align-self: flex-end;width: 50%;}#sk-container-id-1 div.sk-parallel-item:last-child::after {align-self: flex-start;width: 50%;}#sk-container-id-1 div.sk-parallel-item:only-child::after {width: 0;}#sk-container-id-1 div.sk-dashed-wrapped {border: 1px dashed gray;margin: 0 0.4em 0.5em 0.4em;box-sizing: border-box;padding-bottom: 0.4em;background-color: white;}#sk-container-id-1 div.sk-label label {font-family: monospace;font-weight: bold;display: inline-block;line-height: 1.2em;}#sk-container-id-1 div.sk-label-container {text-align: center;}#sk-container-id-1 div.sk-container {/* jupyter's `normalize.less` sets `[hidden] { display: none; }` but bootstrap.min.css set `[hidden] { display: none !important; }` so we also need the `!important` here to be able to override the default hidden behavior on the sphinx rendered scikit-learn.org. See: https://github.com/scikit-learn/scikit-learn/issues/21755 */display: inline-block !important;position: relative;}#sk-container-id-1 div.sk-text-repr-fallback {display: none;}</style><div id=\"sk-container-id-1\" class=\"sk-top-container\"><div class=\"sk-text-repr-fallback\"><pre>GridSearchCV(estimator=SVC(probability=True),\n",
              "             param_grid=[{&#x27;C&#x27;: [1, 10, 100, 1000], &#x27;kernel&#x27;: [&#x27;liner&#x27;]},\n",
              "                         {&#x27;C&#x27;: [1, 10, 100, 1000], &#x27;gamma&#x27;: [0.001, 0.0001],\n",
              "                          &#x27;kernel&#x27;: [&#x27;rbf&#x27;]}])</pre><b>In a Jupyter environment, please rerun this cell to show the HTML representation or trust the notebook. <br />On GitHub, the HTML representation is unable to render, please try loading this page with nbviewer.org.</b></div><div class=\"sk-container\" hidden><div class=\"sk-item sk-dashed-wrapped\"><div class=\"sk-label-container\"><div class=\"sk-label sk-toggleable\"><input class=\"sk-toggleable__control sk-hidden--visually\" id=\"sk-estimator-id-1\" type=\"checkbox\" ><label for=\"sk-estimator-id-1\" class=\"sk-toggleable__label sk-toggleable__label-arrow\">GridSearchCV</label><div class=\"sk-toggleable__content\"><pre>GridSearchCV(estimator=SVC(probability=True),\n",
              "             param_grid=[{&#x27;C&#x27;: [1, 10, 100, 1000], &#x27;kernel&#x27;: [&#x27;liner&#x27;]},\n",
              "                         {&#x27;C&#x27;: [1, 10, 100, 1000], &#x27;gamma&#x27;: [0.001, 0.0001],\n",
              "                          &#x27;kernel&#x27;: [&#x27;rbf&#x27;]}])</pre></div></div></div><div class=\"sk-parallel\"><div class=\"sk-parallel-item\"><div class=\"sk-item\"><div class=\"sk-label-container\"><div class=\"sk-label sk-toggleable\"><input class=\"sk-toggleable__control sk-hidden--visually\" id=\"sk-estimator-id-2\" type=\"checkbox\" ><label for=\"sk-estimator-id-2\" class=\"sk-toggleable__label sk-toggleable__label-arrow\">estimator: SVC</label><div class=\"sk-toggleable__content\"><pre>SVC(probability=True)</pre></div></div></div><div class=\"sk-serial\"><div class=\"sk-item\"><div class=\"sk-estimator sk-toggleable\"><input class=\"sk-toggleable__control sk-hidden--visually\" id=\"sk-estimator-id-3\" type=\"checkbox\" ><label for=\"sk-estimator-id-3\" class=\"sk-toggleable__label sk-toggleable__label-arrow\">SVC</label><div class=\"sk-toggleable__content\"><pre>SVC(probability=True)</pre></div></div></div></div></div></div></div></div></div></div>"
            ]
          },
          "metadata": {},
          "execution_count": 18
        },
        {
          "output_type": "stream",
          "name": "stdout",
          "text": [
            "time: 43 s (started: 2024-01-24 10:57:27 +00:00)\n"
          ]
        }
      ]
    },
    {
      "cell_type": "code",
      "source": [
        "y_pred = clf.predict(x_test)\n",
        "y_pred"
      ],
      "metadata": {
        "colab": {
          "base_uri": "https://localhost:8080/"
        },
        "id": "uUPsKvXXBP8P",
        "outputId": "9084416f-10d7-47e3-edba-abe26bdeb239"
      },
      "execution_count": null,
      "outputs": [
        {
          "output_type": "execute_result",
          "data": {
            "text/plain": [
              "array([0, 0, 0, 2, 2, 0, 0, 0, 0, 0, 0, 0, 0, 2, 0, 0, 2, 0, 0, 0, 2, 0,\n",
              "       2, 0, 0, 0, 0])"
            ]
          },
          "metadata": {},
          "execution_count": 19
        },
        {
          "output_type": "stream",
          "name": "stdout",
          "text": [
            "time: 214 ms (started: 2024-01-24 10:58:22 +00:00)\n"
          ]
        }
      ]
    },
    {
      "cell_type": "code",
      "source": [
        "y_test"
      ],
      "metadata": {
        "colab": {
          "base_uri": "https://localhost:8080/"
        },
        "id": "F7KgMpZABZMH",
        "outputId": "3a9f18c7-2d3d-464e-9f0f-493416cf0a00"
      },
      "execution_count": null,
      "outputs": [
        {
          "output_type": "execute_result",
          "data": {
            "text/plain": [
              "array([1, 0, 1, 2, 2, 1, 0, 1, 1, 0, 1, 0, 1, 2, 2, 1, 2, 1, 0, 1, 2, 2,\n",
              "       2, 0, 0, 0, 1])"
            ]
          },
          "metadata": {},
          "execution_count": 20
        },
        {
          "output_type": "stream",
          "name": "stdout",
          "text": [
            "time: 3.46 ms (started: 2024-01-24 10:58:27 +00:00)\n"
          ]
        }
      ]
    },
    {
      "cell_type": "code",
      "source": [
        "from sklearn.metrics import accuracy_score,confusion_matrix"
      ],
      "metadata": {
        "colab": {
          "base_uri": "https://localhost:8080/"
        },
        "id": "qRlwFHjXBexm",
        "outputId": "a5b6082e-b4e7-4dfb-f43e-28d989954eab"
      },
      "execution_count": null,
      "outputs": [
        {
          "output_type": "stream",
          "name": "stdout",
          "text": [
            "time: 510 µs (started: 2024-01-24 10:58:30 +00:00)\n"
          ]
        }
      ]
    },
    {
      "cell_type": "code",
      "source": [
        "accuracy_score(y_pred,y_test)"
      ],
      "metadata": {
        "colab": {
          "base_uri": "https://localhost:8080/"
        },
        "id": "DRR7Vew8BrB6",
        "outputId": "9d9ef439-905d-4d02-b34d-c83384f44546"
      },
      "execution_count": null,
      "outputs": [
        {
          "output_type": "execute_result",
          "data": {
            "text/plain": [
              "0.5185185185185185"
            ]
          },
          "metadata": {},
          "execution_count": 22
        },
        {
          "output_type": "stream",
          "name": "stdout",
          "text": [
            "time: 5.3 ms (started: 2024-01-24 10:58:34 +00:00)\n"
          ]
        }
      ]
    },
    {
      "cell_type": "code",
      "source": [
        "confusion_matrix(y_pred,y_test)"
      ],
      "metadata": {
        "colab": {
          "base_uri": "https://localhost:8080/"
        },
        "id": "7PSHjPB8B1jr",
        "outputId": "10568172-bd60-456d-b2f3-10ab031bc09a"
      },
      "execution_count": null,
      "outputs": [
        {
          "output_type": "execute_result",
          "data": {
            "text/plain": [
              "array([[ 8, 11,  2],\n",
              "       [ 0,  0,  0],\n",
              "       [ 0,  0,  6]])"
            ]
          },
          "metadata": {},
          "execution_count": 23
        },
        {
          "output_type": "stream",
          "name": "stdout",
          "text": [
            "time: 5.19 ms (started: 2024-01-24 10:58:36 +00:00)\n"
          ]
        }
      ]
    },
    {
      "cell_type": "code",
      "source": [
        "# Save the model using Pickle library\n",
        "import pickle\n",
        "pickle.dump(clf, open('img_model.p','wb'))"
      ],
      "metadata": {
        "colab": {
          "base_uri": "https://localhost:8080/"
        },
        "id": "0b9lKpxrCLm3",
        "outputId": "994e5e40-0198-4d14-9853-8e1140fd48bf"
      },
      "execution_count": null,
      "outputs": [
        {
          "output_type": "stream",
          "name": "stdout",
          "text": [
            "time: 76.9 ms (started: 2024-01-24 10:58:39 +00:00)\n"
          ]
        }
      ]
    },
    {
      "cell_type": "code",
      "source": [
        "model = pickle.load(open('img_model.p', 'rb'))"
      ],
      "metadata": {
        "colab": {
          "base_uri": "https://localhost:8080/"
        },
        "id": "w3iY-xMrCdML",
        "outputId": "7f885b76-e1d2-42cb-dfb3-cf733ec8955c"
      },
      "execution_count": null,
      "outputs": [
        {
          "output_type": "stream",
          "name": "stdout",
          "text": [
            "time: 27.3 ms (started: 2024-01-24 10:58:43 +00:00)\n"
          ]
        }
      ]
    },
    {
      "cell_type": "code",
      "source": [
        "# Testing a brand new Image\n",
        "flat_data = []\n",
        "url = input('Enter your URL')\n",
        "img = imread(url)\n",
        "img_resized = resize(img, (150,150,3))\n",
        "flat_data.append(img_resized.flatten())\n",
        "flat_data = np.array(flat_data)\n",
        "print(img.shape)\n",
        "plt.imshow(img_resized)\n",
        "y_out = model.predict(flat_data)\n",
        "y_out = CATEGORIES[y_out[0]]\n",
        "print(f'PREDICTED OUTPUT: {y_out}')"
      ],
      "metadata": {
        "colab": {
          "base_uri": "https://localhost:8080/",
          "height": 523
        },
        "id": "1UuktJ0HCzgY",
        "outputId": "4e53bb83-638d-45e3-8272-30fc58688e0f"
      },
      "execution_count": null,
      "outputs": [
        {
          "output_type": "stream",
          "name": "stdout",
          "text": [
            "Enter your URLhttps://img.freepik.com/free-photo/cheerful-indian-businessman-smiling-closeup-portrait-jobs-career-campaign_53876-129417.jpg?w=996&t=st=1706093932~exp=1706094532~hmac=836b95e5ce50ababa5d27a5f9cd3d5d37d378d37c346dfa76da8150ed235586d\n",
            "(664, 996, 3)\n",
            "PREDICTED OUTPUT: men\n"
          ]
        },
        {
          "output_type": "display_data",
          "data": {
            "text/plain": [
              "<Figure size 640x480 with 1 Axes>"
            ],
            "image/png": "[encoded data removed]"
          },
          "metadata": {}
        },
        {
          "output_type": "stream",
          "name": "stdout",
          "text": [
            "time: 12.1 s (started: 2024-01-24 10:58:47 +00:00)\n"
          ]
        }
      ]
    },
    {
      "cell_type": "code",
      "source": [
        "!pip install streamlit\n",
        "!pip install pyngrok\n",
        "from pyngrok import ngrok\n",
        "\n",
        "ngrok.set_auth_token(\"2bNmbBDex3UAWRb9x3ySJbNHKqw_2bPNGGjeAfajY8ng4RgeY\")"
      ],
      "metadata": {
        "colab": {
          "base_uri": "https://localhost:8080/"
        },
        "id": "rE7Gp17uHylH",
        "outputId": "87d23705-83b1-4c4c-81c2-cb5075227f90"
      },
      "execution_count": null,
      "outputs": [
        {
          "output_type": "stream",
          "name": "stdout",
          "text": [
            "Requirement already satisfied: streamlit in /usr/local/lib/python3.10/dist-packages (1.30.0)\n",
            "Requirement already satisfied: altair<6,>=4.0 in /usr/local/lib/python3.10/dist-packages (from streamlit) (4.2.2)\n",
            "Requirement already satisfied: blinker<2,>=1.0.0 in /usr/lib/python3/dist-packages (from streamlit) (1.4)\n",
            "Requirement already satisfied: cachetools<6,>=4.0 in /usr/local/lib/python3.10/dist-packages (from streamlit) (5.3.2)\n",
            "Requirement already satisfied: click<9,>=7.0 in /usr/local/lib/python3.10/dist-packages (from streamlit) (8.1.7)\n",
            "Requirement already satisfied: importlib-metadata<8,>=1.4 in /usr/local/lib/python3.10/dist-packages (from streamlit) (7.0.1)\n",
            "Requirement already satisfied: numpy<2,>=1.19.3 in /usr/local/lib/python3.10/dist-packages (from streamlit) (1.23.5)\n",
            "Requirement already satisfied: packaging<24,>=16.8 in /usr/local/lib/python3.10/dist-packages (from streamlit) (23.2)\n",
            "Requirement already satisfied: pandas<3,>=1.3.0 in /usr/local/lib/python3.10/dist-packages (from streamlit) (1.5.3)\n",
            "Requirement already satisfied: pillow<11,>=7.1.0 in /usr/local/lib/python3.10/dist-packages (from streamlit) (9.4.0)\n",
            "Requirement already satisfied: protobuf<5,>=3.20 in /usr/local/lib/python3.10/dist-packages (from streamlit) (3.20.3)\n",
            "Requirement already satisfied: pyarrow>=6.0 in /usr/local/lib/python3.10/dist-packages (from streamlit) (10.0.1)\n",
            "Requirement already satisfied: python-dateutil<3,>=2.7.3 in /usr/local/lib/python3.10/dist-packages (from streamlit) (2.8.2)\n",
            "Requirement already satisfied: requests<3,>=2.27 in /usr/local/lib/python3.10/dist-packages (from streamlit) (2.31.0)\n",
            "Requirement already satisfied: rich<14,>=10.14.0 in /usr/local/lib/python3.10/dist-packages (from streamlit) (13.7.0)\n",
            "Requirement already satisfied: tenacity<9,>=8.1.0 in /usr/local/lib/python3.10/dist-packages (from streamlit) (8.2.3)\n",
            "Requirement already satisfied: toml<2,>=0.10.1 in /usr/local/lib/python3.10/dist-packages (from streamlit) (0.10.2)\n",
            "Requirement already satisfied: typing-extensions<5,>=4.3.0 in /usr/local/lib/python3.10/dist-packages (from streamlit) (4.5.0)\n",
            "Requirement already satisfied: tzlocal<6,>=1.1 in /usr/local/lib/python3.10/dist-packages (from streamlit) (5.2)\n",
            "Requirement already satisfied: validators<1,>=0.2 in /usr/local/lib/python3.10/dist-packages (from streamlit) (0.22.0)\n",
            "Requirement already satisfied: gitpython!=3.1.19,<4,>=3.0.7 in /usr/local/lib/python3.10/dist-packages (from streamlit) (3.1.41)\n",
            "Requirement already satisfied: pydeck<1,>=0.8.0b4 in /usr/local/lib/python3.10/dist-packages (from streamlit) (0.8.1b0)\n",
            "Requirement already satisfied: tornado<7,>=6.0.3 in /usr/local/lib/python3.10/dist-packages (from streamlit) (6.3.2)\n",
            "Requirement already satisfied: watchdog>=2.1.5 in /usr/local/lib/python3.10/dist-packages (from streamlit) (3.0.0)\n",
            "Requirement already satisfied: entrypoints in /usr/local/lib/python3.10/dist-packages (from altair<6,>=4.0->streamlit) (0.4)\n",
            "Requirement already satisfied: jinja2 in /usr/local/lib/python3.10/dist-packages (from altair<6,>=4.0->streamlit) (3.1.3)\n",
            "Requirement already satisfied: jsonschema>=3.0 in /usr/local/lib/python3.10/dist-packages (from altair<6,>=4.0->streamlit) (4.19.2)\n",
            "Requirement already satisfied: toolz in /usr/local/lib/python3.10/dist-packages (from altair<6,>=4.0->streamlit) (0.12.0)\n",
            "Requirement already satisfied: gitdb<5,>=4.0.1 in /usr/local/lib/python3.10/dist-packages (from gitpython!=3.1.19,<4,>=3.0.7->streamlit) (4.0.11)\n",
            "Requirement already satisfied: zipp>=0.5 in /usr/local/lib/python3.10/dist-packages (from importlib-metadata<8,>=1.4->streamlit) (3.17.0)\n",
            "Requirement already satisfied: pytz>=2020.1 in /usr/local/lib/python3.10/dist-packages (from pandas<3,>=1.3.0->streamlit) (2023.3.post1)\n",
            "Requirement already satisfied: six>=1.5 in /usr/local/lib/python3.10/dist-packages (from python-dateutil<3,>=2.7.3->streamlit) (1.16.0)\n",
            "Requirement already satisfied: charset-normalizer<4,>=2 in /usr/local/lib/python3.10/dist-packages (from requests<3,>=2.27->streamlit) (3.3.2)\n",
            "Requirement already satisfied: idna<4,>=2.5 in /usr/local/lib/python3.10/dist-packages (from requests<3,>=2.27->streamlit) (3.6)\n",
            "Requirement already satisfied: urllib3<3,>=1.21.1 in /usr/local/lib/python3.10/dist-packages (from requests<3,>=2.27->streamlit) (2.0.7)\n",
            "Requirement already satisfied: certifi>=2017.4.17 in /usr/local/lib/python3.10/dist-packages (from requests<3,>=2.27->streamlit) (2023.11.17)\n",
            "Requirement already satisfied: markdown-it-py>=2.2.0 in /usr/local/lib/python3.10/dist-packages (from rich<14,>=10.14.0->streamlit) (3.0.0)\n",
            "Requirement already satisfied: pygments<3.0.0,>=2.13.0 in /usr/local/lib/python3.10/dist-packages (from rich<14,>=10.14.0->streamlit) (2.16.1)\n",
            "Requirement already satisfied: smmap<6,>=3.0.1 in /usr/local/lib/python3.10/dist-packages (from gitdb<5,>=4.0.1->gitpython!=3.1.19,<4,>=3.0.7->streamlit) (5.0.1)\n",
            "Requirement already satisfied: MarkupSafe>=2.0 in /usr/local/lib/python3.10/dist-packages (from jinja2->altair<6,>=4.0->streamlit) (2.1.3)\n",
            "Requirement already satisfied: attrs>=22.2.0 in /usr/local/lib/python3.10/dist-packages (from jsonschema>=3.0->altair<6,>=4.0->streamlit) (23.2.0)\n",
            "Requirement already satisfied: jsonschema-specifications>=2023.03.6 in /usr/local/lib/python3.10/dist-packages (from jsonschema>=3.0->altair<6,>=4.0->streamlit) (2023.12.1)\n",
            "Requirement already satisfied: referencing>=0.28.4 in /usr/local/lib/python3.10/dist-packages (from jsonschema>=3.0->altair<6,>=4.0->streamlit) (0.32.1)\n",
            "Requirement already satisfied: rpds-py>=0.7.1 in /usr/local/lib/python3.10/dist-packages (from jsonschema>=3.0->altair<6,>=4.0->streamlit) (0.17.1)\n",
            "Requirement already satisfied: mdurl~=0.1 in /usr/local/lib/python3.10/dist-packages (from markdown-it-py>=2.2.0->rich<14,>=10.14.0->streamlit) (0.1.2)\n",
            "Requirement already satisfied: pyngrok in /usr/local/lib/python3.10/dist-packages (7.0.5)\n",
            "Requirement already satisfied: PyYAML in /usr/local/lib/python3.10/dist-packages (from pyngrok) (6.0.1)\n",
            "time: 15.2 s (started: 2024-01-24 11:03:19 +00:00)\n"
          ]
        }
      ]
    },
    {
      "cell_type": "markdown",
      "source": [
        "# Deployment"
      ],
      "metadata": {
        "id": "mAC_VUJyIpE7"
      }
    },
    {
      "cell_type": "code",
      "source": [
        "# 1. WebPage - HTML/CSS/JS -Flask/Django\n",
        "# 2. WebApp - Streamlit/Dash\n",
        "# 3. Mobile App - Kotlin/Java"
      ],
      "metadata": {
        "id": "yk3Pxv1BIaJW"
      },
      "execution_count": null,
      "outputs": []
    },
    {
      "cell_type": "code",
      "source": [
        "%%writefile app.py\n",
        "import streamlit as st\n",
        "import numpy as np #numerical calculating\n",
        "from skimage.io import imread #reading image(other used opencv)\n",
        "from skimage.transform import resize #all image not specific size in ml\n",
        "from PIL import Image\n",
        "import pickle\n",
        "\n",
        "st.title('Image Classifier using Machine Learning')\n",
        "st.text('Upload the Image')\n",
        "\n",
        "model = pickle.load(open('img_model.p', 'rb'))\n",
        "\n",
        "uploaded_file = st.file_uploader(\"Choose an image...\", type=\"jpg\")\n",
        "if uploaded_file is not None:\n",
        "  img = Image.open(uploaded_file)\n",
        "  st.image(img, caption='Uploaded Image')\n",
        "\n",
        "  if st.button('PREDICT'):\n",
        "    CATEGORIES = ['men', 'women', 'baby']\n",
        "    st.write('Result...')\n",
        "    flat_data = []\n",
        "    img = np.array(img)\n",
        "    img_resized = resize(img, (150,150,3))\n",
        "    flat_data.append(img_resized.flatten())\n",
        "    flat_data = np.array(flat_data)\n",
        "    y_out = model.predict(flat_data)\n",
        "    y_out = CATEGORIES[y_out[0]]\n",
        "    st.title(f'PREDICTED OUTPUT: {y_out}')\n",
        "    q = model.predict_proba(flat_data)\n",
        "    for index, item in enumerate(CATEGORIES):\n",
        "      st.write(f'{item} : {q[0][index]*100}%')"
      ],
      "metadata": {
        "colab": {
          "base_uri": "https://localhost:8080/"
        },
        "id": "f_TXJBvmJBTr",
        "outputId": "e459a452-3096-408f-faba-25ec0a7011ae"
      },
      "execution_count": null,
      "outputs": [
        {
          "output_type": "stream",
          "name": "stdout",
          "text": [
            "Writing app.py\n",
            "time: 9.93 ms (started: 2024-01-24 10:59:29 +00:00)\n"
          ]
        }
      ]
    },
    {
      "cell_type": "code",
      "source": [
        "!nohup streamlit run app.py&\n",
        "\n",
        "url = ngrok.connect()\n",
        "url"
      ],
      "metadata": {
        "id": "LWcFYiwaVGtn"
      },
      "execution_count": null,
      "outputs": []
    }
  ]
}